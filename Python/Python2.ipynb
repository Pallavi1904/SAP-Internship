{
 "cells": [
  {
   "cell_type": "code",
   "execution_count": 1,
   "id": "a5290326-08a2-440f-ab0b-06fec87c0131",
   "metadata": {},
   "outputs": [
    {
     "data": {
      "text/plain": [
       "[1, 3, 5, 7, 9]"
      ]
     },
     "execution_count": 1,
     "metadata": {},
     "output_type": "execute_result"
    }
   ],
   "source": [
    "[  num for num in range(1,11) if num%2 ==1 ]"
   ]
  },
  {
   "cell_type": "code",
   "execution_count": 3,
   "id": "0fbf7919-2969-495b-8341-2c3e96dbe13d",
   "metadata": {},
   "outputs": [
    {
     "name": "stdout",
     "output_type": "stream",
     "text": [
      "1\n",
      "2\n",
      "3\n",
      "4\n",
      "5\n"
     ]
    }
   ],
   "source": [
    "for i in range(1,11):\n",
    "    print(i)\n",
    "    if i == 5:\n",
    "        break"
   ]
  },
  {
   "cell_type": "code",
   "execution_count": 21,
   "id": "2de98caf-610c-498b-aa4b-b514bc07efef",
   "metadata": {},
   "outputs": [
    {
     "name": "stdout",
     "output_type": "stream",
     "text": [
      "55\n"
     ]
    }
   ],
   "source": [
    "total = 0\n",
    "\n",
    "for num in range(1, 11):\n",
    "    total += num\n",
    "print(total)\n",
    "    "
   ]
  },
  {
   "cell_type": "code",
   "execution_count": 25,
   "id": "5e73979b-8054-4eba-9a1d-482f02618949",
   "metadata": {},
   "outputs": [],
   "source": [
    "def total_bill(items, prices):\n",
    "    if len(items) != len(prices):\n",
    "        return \"Error: The number of items and prices\"\n",
    "    total_bill = 0\n",
    "    for price in prices:\n",
    "        total_bill += price\n",
    "    return total_bill"
   ]
  },
  {
   "cell_type": "code",
   "execution_count": 27,
   "id": "6bff0f02-0af6-4bad-86e0-da280b177521",
   "metadata": {},
   "outputs": [],
   "source": [
    "items_list = [\"Apple\",\"Banana\",\"Kiwi\"]"
   ]
  },
  {
   "cell_type": "code",
   "execution_count": 29,
   "id": "0456b82f-ba1b-43d9-a243-a42faafef696",
   "metadata": {},
   "outputs": [],
   "source": [
    "price_list = [250,70,100]"
   ]
  },
  {
   "cell_type": "code",
   "execution_count": 35,
   "id": "88c2d149-20f2-417d-a79c-6aee3833c201",
   "metadata": {},
   "outputs": [
    {
     "data": {
      "text/plain": [
       "420"
      ]
     },
     "execution_count": 35,
     "metadata": {},
     "output_type": "execute_result"
    }
   ],
   "source": [
    "total_bill(items_list,price_list)"
   ]
  },
  {
   "cell_type": "code",
   "execution_count": null,
   "id": "616f0892-f08c-4049-a54b-d4f11dccf0ed",
   "metadata": {},
   "outputs": [],
   "source": []
  }
 ],
 "metadata": {
  "kernelspec": {
   "display_name": "Python [conda env:base] *",
   "language": "python",
   "name": "conda-base-py"
  },
  "language_info": {
   "codemirror_mode": {
    "name": "ipython",
    "version": 3
   },
   "file_extension": ".py",
   "mimetype": "text/x-python",
   "name": "python",
   "nbconvert_exporter": "python",
   "pygments_lexer": "ipython3",
   "version": "3.12.7"
  }
 },
 "nbformat": 4,
 "nbformat_minor": 5
}

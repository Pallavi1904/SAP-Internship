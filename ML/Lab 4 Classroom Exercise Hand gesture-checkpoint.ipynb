{
 "cells": [
  {
   "cell_type": "code",
   "execution_count": 1,
   "id": "dcfa812a",
   "metadata": {},
   "outputs": [
    {
     "name": "stdout",
     "output_type": "stream",
     "text": [
      "Requirement already satisfied: mediapipe in c:\\users\\mario\\anaconda3\\lib\\site-packages (0.10.14)\n",
      "Requirement already satisfied: absl-py in c:\\users\\mario\\anaconda3\\lib\\site-packages (from mediapipe) (2.0.0)\n",
      "Requirement already satisfied: attrs>=19.1.0 in c:\\users\\mario\\anaconda3\\lib\\site-packages (from mediapipe) (22.1.0)\n",
      "Requirement already satisfied: flatbuffers>=2.0 in c:\\users\\mario\\anaconda3\\lib\\site-packages (from mediapipe) (23.5.26)\n",
      "Requirement already satisfied: jax in c:\\users\\mario\\anaconda3\\lib\\site-packages (from mediapipe) (0.4.28)\n",
      "Requirement already satisfied: jaxlib in c:\\users\\mario\\anaconda3\\lib\\site-packages (from mediapipe) (0.4.28)\n",
      "Requirement already satisfied: matplotlib in c:\\users\\mario\\anaconda3\\lib\\site-packages (from mediapipe) (3.7.2)\n",
      "Requirement already satisfied: numpy in c:\\users\\mario\\anaconda3\\lib\\site-packages (from mediapipe) (1.24.3)\n",
      "Requirement already satisfied: opencv-contrib-python in c:\\users\\mario\\anaconda3\\lib\\site-packages (from mediapipe) (4.10.0.82)\n",
      "Requirement already satisfied: protobuf<5,>=4.25.3 in c:\\users\\mario\\anaconda3\\lib\\site-packages (from mediapipe) (4.25.3)\n",
      "Requirement already satisfied: sounddevice>=0.4.4 in c:\\users\\mario\\anaconda3\\lib\\site-packages (from mediapipe) (0.4.7)\n",
      "Requirement already satisfied: CFFI>=1.0 in c:\\users\\mario\\anaconda3\\lib\\site-packages (from sounddevice>=0.4.4->mediapipe) (1.15.1)\n",
      "Requirement already satisfied: ml-dtypes>=0.2.0 in c:\\users\\mario\\anaconda3\\lib\\site-packages (from jax->mediapipe) (0.3.2)\n",
      "Requirement already satisfied: opt-einsum in c:\\users\\mario\\anaconda3\\lib\\site-packages (from jax->mediapipe) (3.3.0)\n",
      "Requirement already satisfied: scipy>=1.9 in c:\\users\\mario\\anaconda3\\lib\\site-packages (from jax->mediapipe) (1.11.1)\n",
      "Requirement already satisfied: contourpy>=1.0.1 in c:\\users\\mario\\anaconda3\\lib\\site-packages (from matplotlib->mediapipe) (1.0.5)\n",
      "Requirement already satisfied: cycler>=0.10 in c:\\users\\mario\\anaconda3\\lib\\site-packages (from matplotlib->mediapipe) (0.11.0)\n",
      "Requirement already satisfied: fonttools>=4.22.0 in c:\\users\\mario\\anaconda3\\lib\\site-packages (from matplotlib->mediapipe) (4.25.0)\n",
      "Requirement already satisfied: kiwisolver>=1.0.1 in c:\\users\\mario\\anaconda3\\lib\\site-packages (from matplotlib->mediapipe) (1.4.4)\n",
      "Requirement already satisfied: packaging>=20.0 in c:\\users\\mario\\anaconda3\\lib\\site-packages (from matplotlib->mediapipe) (23.1)\n",
      "Requirement already satisfied: pillow>=6.2.0 in c:\\users\\mario\\anaconda3\\lib\\site-packages (from matplotlib->mediapipe) (10.3.0)\n",
      "Requirement already satisfied: pyparsing<3.1,>=2.3.1 in c:\\users\\mario\\anaconda3\\lib\\site-packages (from matplotlib->mediapipe) (3.0.9)\n",
      "Requirement already satisfied: python-dateutil>=2.7 in c:\\users\\mario\\anaconda3\\lib\\site-packages (from matplotlib->mediapipe) (2.8.2)\n",
      "Requirement already satisfied: pycparser in c:\\users\\mario\\anaconda3\\lib\\site-packages (from CFFI>=1.0->sounddevice>=0.4.4->mediapipe) (2.21)\n",
      "Requirement already satisfied: six>=1.5 in c:\\users\\mario\\anaconda3\\lib\\site-packages (from python-dateutil>=2.7->matplotlib->mediapipe) (1.16.0)\n",
      "Note: you may need to restart the kernel to use updated packages.\n"
     ]
    }
   ],
   "source": [
    "pip install mediapipe"
   ]
  },
  {
   "cell_type": "code",
   "execution_count": 2,
   "id": "edde1fd8",
   "metadata": {},
   "outputs": [
    {
     "name": "stdout",
     "output_type": "stream",
     "text": [
      "Requirement already satisfied: screen-brightness-control in c:\\users\\mario\\anaconda3\\lib\\site-packages (0.23.0)\n",
      "Requirement already satisfied: wmi in c:\\users\\mario\\anaconda3\\lib\\site-packages (from screen-brightness-control) (1.5.1)\n",
      "Requirement already satisfied: pywin32 in c:\\users\\mario\\anaconda3\\lib\\site-packages (from screen-brightness-control) (305.1)\n",
      "Requirement already satisfied: pypiwin32 in c:\\users\\mario\\anaconda3\\lib\\site-packages (from screen-brightness-control) (223)\n",
      "Note: you may need to restart the kernel to use updated packages.\n"
     ]
    }
   ],
   "source": [
    "pip install screen-brightness-control"
   ]
  },
  {
   "cell_type": "code",
   "execution_count": 1,
   "id": "4af8e19c",
   "metadata": {},
   "outputs": [],
   "source": [
    "# Importing Libraries \n",
    "import cv2 \n",
    "import mediapipe as mp \n",
    "from math import hypot \n",
    "import screen_brightness_control as sbc \n",
    "import numpy as np \n"
   ]
  },
  {
   "cell_type": "code",
   "execution_count": 2,
   "id": "0c36410d",
   "metadata": {},
   "outputs": [],
   "source": [
    "# Initializing the Model \n",
    "mpHands = mp.solutions.hands \n",
    "hands = mpHands.Hands( \n",
    "\tstatic_image_mode=False, \n",
    "\tmodel_complexity=1, \n",
    "\tmin_detection_confidence=0.75, \n",
    "\tmin_tracking_confidence=0.75, \n",
    "\tmax_num_hands=2) \n",
    "\n",
    "Draw = mp.solutions.drawing_utils \n"
   ]
  },
  {
   "cell_type": "code",
   "execution_count": 3,
   "id": "40904830",
   "metadata": {},
   "outputs": [
    {
     "name": "stderr",
     "output_type": "stream",
     "text": [
      "C:\\Users\\mario\\anaconda3\\Lib\\site-packages\\google\\protobuf\\symbol_database.py:55: UserWarning: SymbolDatabase.GetPrototype() is deprecated. Please use message_factory.GetMessageClass() instead. SymbolDatabase.GetPrototype() will be removed soon.\n",
      "  warnings.warn('SymbolDatabase.GetPrototype() is deprecated. Please '\n"
     ]
    }
   ],
   "source": [
    "# Start capturing video from webcam \n",
    "cap = cv2.VideoCapture(0) \n",
    "\n",
    "while True: \n",
    "\t# Read video frame by frame \n",
    "\t_,frame = cap.read() \n",
    "\t\n",
    "\t#Flip image \n",
    "\tframe=cv2.flip(frame,1) \n",
    "\t\n",
    "\t# Convert BGR image to RGB image \n",
    "\tframeRGB = cv2.cvtColor(frame,cv2.COLOR_BGR2RGB) \n",
    "\t\n",
    "\t# Process the RGB image \n",
    "\tProcess = hands.process(frameRGB) \n",
    "\t\n",
    "\tlandmarkList = [] \n",
    "\t# if hands are present in image(frame) \n",
    "\tif Process.multi_hand_landmarks: \n",
    "\t\t# detect handmarks \n",
    "\t\tfor handlm in Process.multi_hand_landmarks: \n",
    "\t\t\tfor _id,landmarks in enumerate(handlm.landmark): \n",
    "\t\t\t\t# store height and width of image \n",
    "\t\t\t\theight,width,color_channels = frame.shape \n",
    "\t\t\t\t\n",
    "\t\t\t\t# calculate and append x, y coordinates \n",
    "\t\t\t\t# of handmarks from image(frame) to lmList \n",
    "\t\t\t\tx,y = int(landmarks.x*width),int(landmarks.y*height)\t\t\t \n",
    "\t\t\t\tlandmarkList.append([_id,x,y]) \n",
    "\t\t\t\n",
    "\t\t\t# draw Landmarks \n",
    "\t\t\tDraw.draw_landmarks(frame,handlm,mpHands.HAND_CONNECTIONS) \n",
    "\t\n",
    "\t# If landmarks list is not empty \n",
    "\tif landmarkList != []: \n",
    "\t\t# store x,y coordinates of (tip of) thumb \n",
    "\t\tx_1,y_1 = landmarkList[4][1],landmarkList[4][2] \n",
    "\t\t\n",
    "\t\t# store x,y coordinates of (tip of) index finger \n",
    "\t\tx_2,y_2 = landmarkList[8][1],landmarkList[8][2] \n",
    "\t\t\n",
    "\t\t# draw circle on thumb and index finger tip \n",
    "\t\tcv2.circle(frame,(x_1,y_1),7,(0,255,0),cv2.FILLED) \n",
    "\t\tcv2.circle(frame,(x_2,y_2),7,(0,255,0),cv2.FILLED) \n",
    "\t\t\n",
    "\t\t# draw line from tip of thumb to tip of index finger \n",
    "\t\tcv2.line(frame,(x_1,y_1),(x_2,y_2),(0,255,0),3) \n",
    "\t\t\n",
    "\t\t# calculate square root of the sum \n",
    "\t\t# of squares of the specified arguments. \n",
    "\t\tL = hypot(x_2-x_1,y_2-y_1) \n",
    "\t\t\n",
    "\t\t# 1-D linear interpolant to a function \n",
    "\t\t# with given discrete data points \n",
    "\t\t# (Hand range 15 - 220, Brightness range 0 - 100), \n",
    "\t\t# evaluated at length. \n",
    "\t\tb_level = np.interp(L,[15,220],[0,100]) \n",
    "\t\n",
    "\t\t# set brightness \n",
    "\t\tsbc.set_brightness(int(b_level)) \n",
    "\n",
    "\t# Display Video and when 'q' is entered, \n",
    "\t# destroy the window \n",
    "\tcv2.imshow('Image', frame) \n",
    "\tif cv2.waitKey(1) & 0xff == ord('q'): \n",
    "\t\tbreak\n"
   ]
  },
  {
   "cell_type": "code",
   "execution_count": null,
   "id": "63bac0ef",
   "metadata": {},
   "outputs": [],
   "source": []
  },
  {
   "cell_type": "code",
   "execution_count": null,
   "id": "25d09c40",
   "metadata": {},
   "outputs": [],
   "source": []
  },
  {
   "cell_type": "code",
   "execution_count": null,
   "id": "70fa00f3",
   "metadata": {},
   "outputs": [],
   "source": []
  }
 ],
 "metadata": {
  "kernelspec": {
   "display_name": "Python 3 (ipykernel)",
   "language": "python",
   "name": "python3"
  },
  "language_info": {
   "codemirror_mode": {
    "name": "ipython",
    "version": 3
   },
   "file_extension": ".py",
   "mimetype": "text/x-python",
   "name": "python",
   "nbconvert_exporter": "python",
   "pygments_lexer": "ipython3",
   "version": "3.11.5"
  }
 },
 "nbformat": 4,
 "nbformat_minor": 5
}
